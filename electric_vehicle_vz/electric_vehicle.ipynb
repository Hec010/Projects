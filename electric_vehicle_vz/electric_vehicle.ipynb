{
 "cells": [
  {
   "cell_type": "code",
   "execution_count": null,
   "id": "02743ed4",
   "metadata": {},
   "outputs": [],
   "source": [
    "import numpy as np\n",
    "import pandas as pd\n",
    "import regex as re\n",
    "import plotly.express as px"
   ]
  },
  {
   "cell_type": "code",
   "execution_count": null,
   "id": "baa709c6",
   "metadata": {},
   "outputs": [],
   "source": [
    "df=pd.read_csv(\"dataset.csv\")"
   ]
  },
  {
   "cell_type": "code",
   "execution_count": null,
   "id": "fc5d0533",
   "metadata": {},
   "outputs": [],
   "source": [
    "df.head()"
   ]
  },
  {
   "cell_type": "code",
   "execution_count": null,
   "id": "34b57eb8",
   "metadata": {},
   "outputs": [],
   "source": [
    "df.dtypes"
   ]
  },
  {
   "cell_type": "code",
   "execution_count": null,
   "id": "adfb2164",
   "metadata": {},
   "outputs": [],
   "source": [
    "df.isna().sum()"
   ]
  },
  {
   "cell_type": "markdown",
   "id": "f3c40d74",
   "metadata": {},
   "source": [
    "## Cleanning"
   ]
  },
  {
   "cell_type": "code",
   "execution_count": null,
   "id": "31cea67d",
   "metadata": {},
   "outputs": [],
   "source": [
    "df['County'].value_counts()"
   ]
  },
  {
   "cell_type": "code",
   "execution_count": null,
   "id": "607c62ed",
   "metadata": {},
   "outputs": [],
   "source": [
    "df[\"Model Year\"].value_counts()"
   ]
  },
  {
   "cell_type": "code",
   "execution_count": null,
   "id": "b10a9d00",
   "metadata": {},
   "outputs": [],
   "source": [
    "df[\"Model\"].value_counts()"
   ]
  },
  {
   "cell_type": "code",
   "execution_count": null,
   "id": "655cf366",
   "metadata": {},
   "outputs": [],
   "source": []
  },
  {
   "cell_type": "code",
   "execution_count": null,
   "id": "a442bf0a",
   "metadata": {},
   "outputs": [],
   "source": [
    "df.dropna(subset=['Legislative District'],inplace=True)"
   ]
  },
  {
   "cell_type": "code",
   "execution_count": null,
   "id": "7cb4a48e",
   "metadata": {},
   "outputs": [],
   "source": [
    "df.isna().sum()"
   ]
  },
  {
   "cell_type": "code",
   "execution_count": null,
   "id": "7da92c3e",
   "metadata": {},
   "outputs": [],
   "source": []
  },
  {
   "cell_type": "code",
   "execution_count": null,
   "id": "e1a1912c",
   "metadata": {},
   "outputs": [],
   "source": [
    "df[df['Vehicle Location'].isna()]"
   ]
  },
  {
   "cell_type": "code",
   "execution_count": null,
   "id": "81c59c26",
   "metadata": {},
   "outputs": [],
   "source": [
    "df.dropna(subset=['Vehicle Location'],inplace=True)"
   ]
  },
  {
   "cell_type": "code",
   "execution_count": null,
   "id": "63104fab",
   "metadata": {},
   "outputs": [],
   "source": [
    "df.isna().sum()"
   ]
  },
  {
   "cell_type": "code",
   "execution_count": null,
   "id": "53fb827d",
   "metadata": {},
   "outputs": [],
   "source": [
    "df[df['Electric Utility'].isna()]"
   ]
  },
  {
   "cell_type": "code",
   "execution_count": null,
   "id": "65808916",
   "metadata": {},
   "outputs": [],
   "source": [
    "df.dropna(subset=['Electric Utility'],inplace=True)"
   ]
  },
  {
   "cell_type": "code",
   "execution_count": null,
   "id": "2df2613f",
   "metadata": {},
   "outputs": [],
   "source": [
    "df.isna().sum()"
   ]
  },
  {
   "cell_type": "code",
   "execution_count": null,
   "id": "cf1a1eb2",
   "metadata": {},
   "outputs": [],
   "source": [
    "df[df[\"Model\"].isna()]"
   ]
  },
  {
   "cell_type": "code",
   "execution_count": null,
   "id": "f8377450",
   "metadata": {},
   "outputs": [],
   "source": [
    "df[df['Make']==\"VOLVO\"].mode()"
   ]
  },
  {
   "cell_type": "code",
   "execution_count": null,
   "id": "90707e6b",
   "metadata": {},
   "outputs": [],
   "source": [
    "df['Model'].fillna('XC90',inplace=True)"
   ]
  },
  {
   "cell_type": "code",
   "execution_count": null,
   "id": "40a149be",
   "metadata": {},
   "outputs": [],
   "source": [
    "df.isna().sum()\n",
    "\n"
   ]
  },
  {
   "cell_type": "markdown",
   "id": "d27250cb",
   "metadata": {},
   "source": [
    "# EDA"
   ]
  },
  {
   "cell_type": "code",
   "execution_count": null,
   "id": "327f4c29",
   "metadata": {},
   "outputs": [],
   "source": [
    "def top_10_value_counts_to_df(series, value_column_name, count_column_name):\n",
    "    value_counts = series.value_counts().head(10)\n",
    "    df = pd.DataFrame({value_column_name: value_counts.index, count_column_name: value_counts.values})\n",
    "    return df"
   ]
  },
  {
   "cell_type": "code",
   "execution_count": null,
   "id": "500fd052",
   "metadata": {},
   "outputs": [],
   "source": [
    "top10=top_10_value_counts_to_df(df['Make'],'company',\"Make\")"
   ]
  },
  {
   "cell_type": "code",
   "execution_count": null,
   "id": "d29924b9",
   "metadata": {},
   "outputs": [],
   "source": [
    "fig= px.pie(top10, names='company',values='Make' ,title='Pie Chart of Makes')\n",
    "fig.update_layout(width=600, height=600)\n",
    "fig.show()"
   ]
  },
  {
   "cell_type": "markdown",
   "id": "49d8fbe4",
   "metadata": {},
   "source": [
    "* TOP 10  Electric Vehicle Production Companies \n",
    "* With Tesla as the top 1 followed by others"
   ]
  },
  {
   "cell_type": "code",
   "execution_count": null,
   "id": "88a26cac",
   "metadata": {},
   "outputs": [],
   "source": [
    "top10_city=top_10_value_counts_to_df(df['City'],'City',\"count\")\n",
    "top10_city"
   ]
  },
  {
   "cell_type": "code",
   "execution_count": null,
   "id": "b5724d38",
   "metadata": {},
   "outputs": [],
   "source": [
    "fig= px.pie(top10_city, names='City',values='count' ,title='Top 10 city')\n",
    "fig.update_layout(width=600, height=600)\n",
    "fig.show()"
   ]
  },
  {
   "cell_type": "markdown",
   "id": "e7d3d828",
   "metadata": {},
   "source": [
    "* Top 10 city using electric vehicle\n",
    "* where Seattle being top 1"
   ]
  },
  {
   "cell_type": "code",
   "execution_count": null,
   "id": "9777cb99",
   "metadata": {},
   "outputs": [],
   "source": [
    "top10_model=top_10_value_counts_to_df(df['Model'],'Model',\"count\")\n",
    "top10_model"
   ]
  },
  {
   "cell_type": "code",
   "execution_count": null,
   "id": "87a97d61",
   "metadata": {},
   "outputs": [],
   "source": [
    "fig= px.bar(top10_model, x='Model',y='count',title='Top 10 Models')\n",
    "fig.show()"
   ]
  },
  {
   "cell_type": "markdown",
   "id": "0944b489",
   "metadata": {},
   "source": [
    "* Top 10 models used mostle\n",
    "* From above graph Model 3 is used mostle"
   ]
  },
  {
   "cell_type": "code",
   "execution_count": null,
   "id": "d607e090",
   "metadata": {},
   "outputs": [],
   "source": [
    "df.columns"
   ]
  },
  {
   "cell_type": "code",
   "execution_count": null,
   "id": "940d351d",
   "metadata": {},
   "outputs": [],
   "source": [
    "result_df_1 = df.groupby(['Make', 'Model']).size().reset_index(name='Count')\n"
   ]
  },
  {
   "cell_type": "code",
   "execution_count": null,
   "id": "a2ec7f04",
   "metadata": {},
   "outputs": [],
   "source": [
    "top15_=result_df_1.sort_values(by='Count',ascending=False).head(15)"
   ]
  },
  {
   "cell_type": "code",
   "execution_count": null,
   "id": "9dd51176",
   "metadata": {},
   "outputs": [],
   "source": [
    "top15_"
   ]
  },
  {
   "cell_type": "code",
   "execution_count": null,
   "id": "70ffcd41",
   "metadata": {},
   "outputs": [],
   "source": [
    "fig= px.bar(top15_, x='Make',y='Count',color='Model',title='Top 15 Models Made by Company')\n",
    "fig.show()"
   ]
  },
  {
   "cell_type": "markdown",
   "id": "0f691f7a",
   "metadata": {},
   "source": [
    "* Top Models that are made from company\n",
    "* From the above graph Tesla mode 3 and model y are the top model made"
   ]
  },
  {
   "cell_type": "code",
   "execution_count": null,
   "id": "686bcb6f",
   "metadata": {},
   "outputs": [],
   "source": [
    "result_df_2 = df.groupby(['Make', 'Electric Vehicle Type']).size().reset_index(name='Count')"
   ]
  },
  {
   "cell_type": "code",
   "execution_count": null,
   "id": "f3efe551",
   "metadata": {},
   "outputs": [],
   "source": [
    "top15_1=result_df_2.sort_values(by='Count',ascending=False).head(15)"
   ]
  },
  {
   "cell_type": "code",
   "execution_count": null,
   "id": "4b31c1fc",
   "metadata": {},
   "outputs": [],
   "source": [
    "top15_1"
   ]
  },
  {
   "cell_type": "code",
   "execution_count": null,
   "id": "4ba2ee3e",
   "metadata": {},
   "outputs": [],
   "source": [
    "fig= px.bar(top15_1, x='Make',y='Count',color='Electric Vehicle Type',title='Companies vs Electric vehicle type')\n",
    "fig.show()"
   ]
  },
  {
   "cell_type": "markdown",
   "id": "84983952",
   "metadata": {},
   "source": [
    "* Here we had graph on companies and vehicle Type\n",
    "* Here tesla is the only top company which make vehicle type of Battery electric Vehicle\n",
    "* we can see Chevrolet had a 50/50 of both BEV and PHEV"
   ]
  },
  {
   "cell_type": "code",
   "execution_count": null,
   "id": "631aa8e3",
   "metadata": {},
   "outputs": [],
   "source": []
  },
  {
   "cell_type": "code",
   "execution_count": null,
   "id": "9d0f4edd",
   "metadata": {},
   "outputs": [],
   "source": [
    "result_df_3 = df.groupby(['County', 'Make']).size().reset_index(name='Count')"
   ]
  },
  {
   "cell_type": "code",
   "execution_count": null,
   "id": "7becc0ad",
   "metadata": {},
   "outputs": [],
   "source": [
    "top15_2=result_df_3.sort_values(by='Count',ascending=False).head(10)\n",
    "top15_2"
   ]
  },
  {
   "cell_type": "code",
   "execution_count": null,
   "id": "ed26d01a",
   "metadata": {},
   "outputs": [],
   "source": [
    "fig= px.bar(top15_2, x='Make',y='Count',color='County',title='Companies vs County')\n",
    "fig.show()"
   ]
  },
  {
   "cell_type": "markdown",
   "id": "f05b207b",
   "metadata": {},
   "source": [
    "* A plot over top 10  Companies vs county \n",
    "* where king is the only county mostly uses electric vehicle\n"
   ]
  },
  {
   "cell_type": "code",
   "execution_count": null,
   "id": "510ee5ca",
   "metadata": {},
   "outputs": [],
   "source": [
    "result_df_4 = df.groupby(['City', 'Make']).size().reset_index(name='Count')"
   ]
  },
  {
   "cell_type": "code",
   "execution_count": null,
   "id": "06e63ad2",
   "metadata": {},
   "outputs": [],
   "source": [
    "top15_3=result_df_4.sort_values(by='Count',ascending=False).head(10)\n",
    "top15_3"
   ]
  },
  {
   "cell_type": "code",
   "execution_count": null,
   "id": "1b4c0dc1",
   "metadata": {},
   "outputs": [],
   "source": [
    "fig= px.bar(top15_3, x='City',y='Count',color='Make',title='City vs Make')\n",
    "fig.show()"
   ]
  },
  {
   "cell_type": "markdown",
   "id": "24a191e4",
   "metadata": {},
   "source": [
    "* From the above graph its a plot on city vs Make\n",
    "* Here we can understand that seattle is the higest electrical vehicle like tesla,nissan\n",
    "* Most of the cities uses Tesla compared to other"
   ]
  },
  {
   "cell_type": "code",
   "execution_count": null,
   "id": "884dcbbb",
   "metadata": {},
   "outputs": [],
   "source": [
    "import json\n",
    "\n",
    "json_file_path = 'wa_washington_zip_codes_geo.min.json' \n",
    "\n",
    "with open(json_file_path, 'r') as json_file:\n",
    "    counties = json.load(json_file)"
   ]
  },
  {
   "cell_type": "code",
   "execution_count": null,
   "id": "3b4f977e",
   "metadata": {},
   "outputs": [],
   "source": [
    "\n",
    "df_group=df['Postal Code'].value_counts().reset_index()"
   ]
  },
  {
   "cell_type": "code",
   "execution_count": null,
   "id": "efae307a",
   "metadata": {},
   "outputs": [],
   "source": [
    "df_group"
   ]
  },
  {
   "cell_type": "code",
   "execution_count": null,
   "id": "561a0971",
   "metadata": {},
   "outputs": [],
   "source": [
    "df_group.rename({'index':'Postal Code','Postal Code':'count'},inplace=True,axis=1)\n",
    "df_group"
   ]
  },
  {
   "cell_type": "markdown",
   "id": "f94ae70b",
   "metadata": {},
   "source": [
    "## Choropleth"
   ]
  },
  {
   "cell_type": "code",
   "execution_count": null,
   "id": "150bc6d1",
   "metadata": {},
   "outputs": [],
   "source": [
    "fig = px.choropleth(df_group, geojson=counties, \n",
    "                    locations='Postal Code', featureidkey='properties.ZCTA5CE10', \n",
    "                    color='count', color_continuous_scale='Plasma',\n",
    "                    labels={'Electric Vehicle Count': 'count'},\n",
    "                    title='Electric Vehicles by Postal Code in Washington State')\n",
    "fig.update_geos(fitbounds='locations', visible=False)\n",
    "fig.update_layout(title_x=0.5)\n",
    "fig.show()"
   ]
  },
  {
   "cell_type": "code",
   "execution_count": null,
   "id": "a8476be3",
   "metadata": {},
   "outputs": [],
   "source": [
    "import bar_chart_race as  bcr"
   ]
  },
  {
   "cell_type": "code",
   "execution_count": null,
   "id": "221fcdb9",
   "metadata": {},
   "outputs": [],
   "source": [
    " df.columns"
   ]
  },
  {
   "cell_type": "markdown",
   "id": "5055f189",
   "metadata": {},
   "source": [
    "## Bar Chart race ."
   ]
  },
  {
   "cell_type": "code",
   "execution_count": null,
   "id": "91b43343",
   "metadata": {},
   "outputs": [],
   "source": [
    "current_year = pd.Timestamp.now().year\n",
    "last_decade_start = current_year - 27\n",
    "df_last_decade = df[df['Model Year'].between(last_decade_start, current_year)]\n",
    "\n",
    "counts_by_year_make = df_last_decade.groupby(['Model Year', 'Make']).size().unstack().fillna(0)\n",
    "n_bars = 10\n",
    "steps_per_period = 5 \n",
    "bcr.bar_chart_race(counts_by_year_make, filename='make_bar_chart_race_slow.gif', n_bars=n_bars, steps_per_period=steps_per_period)\n"
   ]
  },
  {
   "cell_type": "code",
   "execution_count": null,
   "id": "b9f175e4",
   "metadata": {},
   "outputs": [],
   "source": [
    "from IPython.display import Image\n",
    "\n",
    "# Specify the path to your GIF file\n",
    "gif_path = 'make_bar_chart_race_slow.gif'  # Replace with the actual file path\n",
    "\n",
    "# Display the GIF using IPython's Image object\n",
    "Image(filename=gif_path)"
   ]
  },
  {
   "cell_type": "markdown",
   "id": "3331c071",
   "metadata": {},
   "source": [
    "*  Usage of electric vehicles from past years and companies making them\n",
    "* Ford is the first ev and tesla is the higest used ev from past years of  the given data"
   ]
  },
  {
   "cell_type": "code",
   "execution_count": null,
   "id": "2269d3c3",
   "metadata": {},
   "outputs": [],
   "source": []
  }
 ],
 "metadata": {
  "kernelspec": {
   "display_name": "Python 3 (ipykernel)",
   "language": "python",
   "name": "python3"
  },
  "language_info": {
   "codemirror_mode": {
    "name": "ipython",
    "version": 3
   },
   "file_extension": ".py",
   "mimetype": "text/x-python",
   "name": "python",
   "nbconvert_exporter": "python",
   "pygments_lexer": "ipython3",
   "version": "3.9.16"
  }
 },
 "nbformat": 4,
 "nbformat_minor": 5
}

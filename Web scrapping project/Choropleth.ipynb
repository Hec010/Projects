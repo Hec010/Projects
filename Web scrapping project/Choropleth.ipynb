{
 "cells": [
  {
   "cell_type": "code",
   "execution_count": null,
   "id": "8e648142",
   "metadata": {},
   "outputs": [],
   "source": [
    "import warnings\n",
    "warnings.filterwarnings('ignore')\n",
    "\n",
    "import numpy as np\n",
    "import pandas as pd\n",
    "import requests\n",
    "from bs4 import BeautifulSoup\n",
    "\n",
    "import re\n",
    "import time\n",
    "\n",
    "import seaborn as sns\n",
    "import matplotlib.pyplot as plt\n",
    "import plotly.express as px"
   ]
  },
  {
   "cell_type": "code",
   "execution_count": null,
   "id": "cddb5adc",
   "metadata": {},
   "outputs": [],
   "source": [
    "import requests\n",
    "import pandas as pd\n",
    "from urllib.request import urlopen\n",
    "import json\n",
    "with urlopen('https://raw.githubusercontent.com/datameet/Municipal_Spatial_Data/master/Hyderabad/ghmc-wards.geojson') as response:\n",
    "    counties = json.load(response)"
   ]
  },
  {
   "cell_type": "code",
   "execution_count": null,
   "id": "b6632254",
   "metadata": {},
   "outputs": [],
   "source": [
    "df=pd.read_csv('House_data_cleaned.csv')"
   ]
  },
  {
   "cell_type": "code",
   "execution_count": null,
   "id": "1204e46e",
   "metadata": {},
   "outputs": [],
   "source": [
    "df.head()"
   ]
  },
  {
   "cell_type": "code",
   "execution_count": null,
   "id": "da63e9fc",
   "metadata": {},
   "outputs": [],
   "source": [
    "df_zone=pd.read_csv('demo1_id__.csv')"
   ]
  },
  {
   "cell_type": "code",
   "execution_count": null,
   "id": "9dc2c097",
   "metadata": {},
   "outputs": [],
   "source": [
    "df_zone.head()"
   ]
  },
  {
   "cell_type": "code",
   "execution_count": null,
   "id": "7728b01a",
   "metadata": {},
   "outputs": [],
   "source": [
    "df_id=pd.merge(df,df_zone,on='Locality',how='left')"
   ]
  },
  {
   "cell_type": "code",
   "execution_count": null,
   "id": "075175c0",
   "metadata": {},
   "outputs": [],
   "source": [
    "df_id"
   ]
  },
  {
   "cell_type": "code",
   "execution_count": null,
   "id": "0d2878c5",
   "metadata": {},
   "outputs": [],
   "source": [
    "df_id.isna().sum()"
   ]
  },
  {
   "cell_type": "code",
   "execution_count": null,
   "id": "2bc0e4c5",
   "metadata": {},
   "outputs": [],
   "source": [
    "df_id=df_id.dropna()"
   ]
  },
  {
   "cell_type": "code",
   "execution_count": null,
   "id": "ebdb3a87",
   "metadata": {},
   "outputs": [],
   "source": [
    "df_id.isna().sum()"
   ]
  },
  {
   "cell_type": "code",
   "execution_count": null,
   "id": "51414efd",
   "metadata": {},
   "outputs": [],
   "source": [
    "df_id['avg_price']=df_id['Locality'].transform(lambda x:df_id.groupby('Locality')['Price_in_rupees'].mean())"
   ]
  },
  {
   "cell_type": "code",
   "execution_count": null,
   "id": "c600825f",
   "metadata": {},
   "outputs": [],
   "source": [
    "df_id.groupby('Locality')['Price_in_rupees'].mean()"
   ]
  },
  {
   "cell_type": "code",
   "execution_count": null,
   "id": "83b375dd",
   "metadata": {},
   "outputs": [],
   "source": [
    "df_id.head()"
   ]
  },
  {
   "cell_type": "code",
   "execution_count": null,
   "id": "3c87d425",
   "metadata": {},
   "outputs": [],
   "source": [
    "fig = px.choropleth_mapbox(\n",
    "    df_id,\n",
    "    locations=\"id\",\n",
    "    geojson=counties,\n",
    "    #color=df['Price_in_rupees'].mean(),\n",
    "    hover_name=\"Locality\",\n",
    "    #hover_data=[\"Density\"],\n",
    "    title=\"India Population Density\",\n",
    "    mapbox_style=\"carto-positron\",\n",
    "    center={\"lat\": 17.385, \"lon\": 78.4867},\n",
    "    zoom=10,\n",
    "    opacity=0.5,\n",
    ")\n",
    "fig.show()"
   ]
  },
  {
   "cell_type": "code",
   "execution_count": null,
   "id": "4cd3f70b",
   "metadata": {},
   "outputs": [],
   "source": [
    "fig = px.choropleth_mapbox(df_id, geojson=counties, locations='id', color='Price_in_rupees',\n",
    "                           color_continuous_scale=\"Viridis\",\n",
    "                           range_color=(0, 12),\n",
    "                           mapbox_style=\"carto-positron\",\n",
    "                           zoom=3, center = {\"lat\": 17.39675398986617 , \"lon\": 78.47102665925668},\n",
    "                           opacity=0.5,\n",
    "                           #labels={'unemp':'unemployment rate'}\n",
    "                          )\n",
    "fig.update_layout(margin={\"r\":0,\"t\":0,\"l\":0,\"b\":0})\n",
    "fig.show()"
   ]
  },
  {
   "cell_type": "code",
   "execution_count": null,
   "id": "e27ef069",
   "metadata": {},
   "outputs": [],
   "source": []
  }
 ],
 "metadata": {
  "kernelspec": {
   "display_name": "Python 3 (ipykernel)",
   "language": "python",
   "name": "python3"
  },
  "language_info": {
   "codemirror_mode": {
    "name": "ipython",
    "version": 3
   },
   "file_extension": ".py",
   "mimetype": "text/x-python",
   "name": "python",
   "nbconvert_exporter": "python",
   "pygments_lexer": "ipython3",
   "version": "3.9.16"
  }
 },
 "nbformat": 4,
 "nbformat_minor": 5
}

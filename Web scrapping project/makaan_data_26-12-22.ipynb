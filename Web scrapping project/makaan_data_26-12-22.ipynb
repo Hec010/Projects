{
 "cells": [
  {
   "cell_type": "code",
   "execution_count": null,
   "id": "5167b12d",
   "metadata": {},
   "outputs": [],
   "source": [
    "import warnings\n",
    "warnings.filterwarnings('ignore')\n",
    "\n",
    "import numpy as np\n",
    "import pandas as pd\n",
    "import requests\n",
    "from bs4 import BeautifulSoup\n",
    "\n",
    "import re\n",
    "import time"
   ]
  },
  {
   "cell_type": "code",
   "execution_count": null,
   "id": "0d7573bb",
   "metadata": {},
   "outputs": [],
   "source": [
    "## Project title"
   ]
  },
  {
   "cell_type": "code",
   "execution_count": null,
   "id": "6ac79b2e",
   "metadata": {},
   "outputs": [],
   "source": [
    "## Business use case"
   ]
  },
  {
   "cell_type": "code",
   "execution_count": null,
   "id": "92f71a24",
   "metadata": {},
   "outputs": [],
   "source": [
    "## Define problem statement"
   ]
  },
  {
   "cell_type": "code",
   "execution_count": null,
   "id": "3757d7cb",
   "metadata": {},
   "outputs": [],
   "source": [
    "\n",
    "url = 'https://www.makaan.com/hyderabad-residential-property/rent-property-in-hyderabad-city?page=1'\n"
   ]
  },
  {
   "cell_type": "code",
   "execution_count": null,
   "id": "c6e4b156",
   "metadata": {},
   "outputs": [],
   "source": [
    "for i in range(1,51):\n",
    "    url = f'https://www.makaan.com/hyderabad-residential-property/rent-property-in-hyderabad-city?page={i}'\n",
    "    print(url)"
   ]
  },
  {
   "cell_type": "code",
   "execution_count": null,
   "id": "7ca24d2e",
   "metadata": {},
   "outputs": [],
   "source": [
    "page=requests.get(url)"
   ]
  },
  {
   "cell_type": "code",
   "execution_count": null,
   "id": "b3588e4c",
   "metadata": {},
   "outputs": [],
   "source": [
    "page.status_code"
   ]
  },
  {
   "cell_type": "code",
   "execution_count": null,
   "id": "916f41b7",
   "metadata": {},
   "outputs": [],
   "source": [
    "page.text"
   ]
  },
  {
   "cell_type": "code",
   "execution_count": null,
   "id": "2ae537fb",
   "metadata": {},
   "outputs": [],
   "source": [
    "soup = BeautifulSoup(page.text)"
   ]
  },
  {
   "cell_type": "code",
   "execution_count": null,
   "id": "1e0b7b0d",
   "metadata": {},
   "outputs": [],
   "source": [
    "a = soup.find_all('div',attrs={'class':'infoWrap'})"
   ]
  },
  {
   "cell_type": "code",
   "execution_count": null,
   "id": "690c8925",
   "metadata": {},
   "outputs": [],
   "source": [
    "a[0].text"
   ]
  },
  {
   "cell_type": "code",
   "execution_count": null,
   "id": "d9198ae4",
   "metadata": {},
   "outputs": [],
   "source": [
    "for i in soup.find_all('div',attrs={'class':'infoWrap'}):\n",
    "    price = i.find('td',attrs={'class':'price'})\n",
    "    print(price.text)"
   ]
  },
  {
   "cell_type": "code",
   "execution_count": null,
   "id": "6e21ef82",
   "metadata": {},
   "outputs": [],
   "source": [
    "for i in soup.find_all('div',attrs={'class':'infoWrap'}):\n",
    "    area = i.find('td',attrs={'class':'size'})\n",
    "    print(area.text)"
   ]
  },
  {
   "cell_type": "code",
   "execution_count": null,
   "id": "ed3d6656",
   "metadata": {},
   "outputs": [],
   "source": [
    "for i in soup.find_all('div',attrs={'class':'infoWrap'}):\n",
    "    furniture = i.find('td',attrs={'class':'val'})\n",
    "    print(furniture.text)"
   ]
  },
  {
   "cell_type": "code",
   "execution_count": null,
   "id": "e72029e9",
   "metadata": {},
   "outputs": [],
   "source": [
    "for i in soup.find_all('div',attrs={'class':'infoWrap'}):\n",
    "    bhk = i.find('div',attrs={'class':'title-line'})\n",
    "    print(bhk.text)"
   ]
  },
  {
   "cell_type": "code",
   "execution_count": null,
   "id": "f45146fe",
   "metadata": {},
   "outputs": [],
   "source": [
    "for i in soup.find_all('div',attrs={'class':'infoWrap'}):\n",
    "    loc = i.find('span',attrs={'class':'locName'})\n",
    "    print(loc.text)"
   ]
  },
  {
   "cell_type": "code",
   "execution_count": null,
   "id": "a1a2046a",
   "metadata": {},
   "outputs": [],
   "source": [
    "for i in soup.find_all('div',attrs={'class':'infoWrap'}):\n",
    "    bathroom = i.find('ul',attrs={'class':'listing-details'})\n",
    "    print(bathroom.text)"
   ]
  },
  {
   "cell_type": "code",
   "execution_count": null,
   "id": "15827616",
   "metadata": {},
   "outputs": [],
   "source": [
    "for i in soup.find_all('div',attrs={'class':'infoWrap'}):\n",
    "    phone = i.find('div',attrs={'class':'callwrap'})\n",
    "    print(phone.text)"
   ]
  },
  {
   "cell_type": "markdown",
   "id": "68ee7704",
   "metadata": {},
   "source": [
    "## Extracting Data from Website"
   ]
  },
  {
   "cell_type": "code",
   "execution_count": null,
   "id": "85f780a0",
   "metadata": {},
   "outputs": [],
   "source": [
    "price=[]\n",
    "sq_area=[]\n",
    "furniture=[]\n",
    "bhk=[]\n",
    "location=[]\n",
    "bathroom=[]\n",
    "pagenum=[]\n",
    "for i in range(1,51):\n",
    "    url = f'https://www.makaan.com/hyderabad-residential-property/rent-property-in-hyderabad-city?page={i}'\n",
    "    page=requests.get(url)\n",
    "    soup=BeautifulSoup(page.text)\n",
    "    \n",
    "    for x in soup.find_all('div',attrs={'class':'infoWrap'}):\n",
    "        cost = x.find('td',attrs={'class':'price'})\n",
    "        area = x.find('td',attrs={'class':'size'})\n",
    "        furni = x.find('td',attrs={'class':'val'})\n",
    "        Bhk = x.find('div',attrs={'class':'title-line'})\n",
    "        loc = x.find('span',attrs={'class':'locName'})\n",
    "        bath = x.find('ul',attrs={'class':'listing-details'})\n",
    "        \n",
    "        if cost is None:\n",
    "            price.append(np.NaN)\n",
    "        else:\n",
    "            price.append(cost.text)\n",
    "        \n",
    "        if area is None:\n",
    "            sq_area.append(np.NaN)\n",
    "        else:\n",
    "            sq_area.append(area.text)\n",
    "        \n",
    "        if furni is None:\n",
    "            furniture.append(np.NaN)\n",
    "        else:\n",
    "            furniture.append(furni.text)\n",
    "            \n",
    "        if Bhk is None:\n",
    "            bhk.append(np.NaN)\n",
    "        else:\n",
    "            bhk.append(Bhk.text)\n",
    "        \n",
    "        if loc is None:\n",
    "            location.append(np.NaN)\n",
    "        else:\n",
    "            location.append(loc.text)\n",
    "        \n",
    "        if bath is None:\n",
    "            bathroom.append(np.NaN)\n",
    "        else:\n",
    "            bathroom.append(bath.text)\n",
    "        \n",
    "        pagenum.append(i)"
   ]
  },
  {
   "cell_type": "code",
   "execution_count": null,
   "id": "326bceb1",
   "metadata": {},
   "outputs": [],
   "source": [
    "print(len(price))\n",
    "print(len(sq_area))\n",
    "print(len(furniture))\n",
    "print(len(bhk))\n",
    "print(len(location))\n",
    "print(len(bathroom))"
   ]
  },
  {
   "cell_type": "code",
   "execution_count": null,
   "id": "78314b5a",
   "metadata": {},
   "outputs": [],
   "source": [
    "house_df=pd.DataFrame({'price':price,'sq_area':sq_area,'furinture':furniture,'BHK':bhk,'location':location,'bathrooms':bathroom})"
   ]
  },
  {
   "cell_type": "code",
   "execution_count": null,
   "id": "c2fef47a",
   "metadata": {},
   "outputs": [],
   "source": [
    "house_df.head()"
   ]
  },
  {
   "cell_type": "code",
   "execution_count": null,
   "id": "23faa0f2",
   "metadata": {},
   "outputs": [],
   "source": [
    "house_df.to_csv('House_data.csv')"
   ]
  },
  {
   "cell_type": "code",
   "execution_count": null,
   "id": "5d4ede67",
   "metadata": {},
   "outputs": [],
   "source": [
    "house_df['location'].value_counts()"
   ]
  },
  {
   "cell_type": "markdown",
   "id": "d790e769",
   "metadata": {},
   "source": [
    "#### Reading CSV"
   ]
  },
  {
   "cell_type": "code",
   "execution_count": null,
   "id": "cc4e7988",
   "metadata": {},
   "outputs": [],
   "source": []
  },
  {
   "cell_type": "code",
   "execution_count": null,
   "id": "f3c9c1be",
   "metadata": {},
   "outputs": [],
   "source": [
    "df = pd.read_csv('House_data.csv')"
   ]
  },
  {
   "cell_type": "code",
   "execution_count": null,
   "id": "f589ca29",
   "metadata": {},
   "outputs": [],
   "source": [
    "df.info()"
   ]
  },
  {
   "cell_type": "code",
   "execution_count": null,
   "id": "8c2618cd",
   "metadata": {},
   "outputs": [],
   "source": [
    "df.head()"
   ]
  },
  {
   "cell_type": "code",
   "execution_count": null,
   "id": "16bb2811",
   "metadata": {},
   "outputs": [],
   "source": [
    "df.tail()"
   ]
  },
  {
   "cell_type": "code",
   "execution_count": null,
   "id": "a6e35cd8",
   "metadata": {},
   "outputs": [],
   "source": [
    "df.dtypes"
   ]
  },
  {
   "cell_type": "code",
   "execution_count": null,
   "id": "c0d0f7b1",
   "metadata": {},
   "outputs": [],
   "source": [
    "df.describe(include=\"all\")"
   ]
  },
  {
   "cell_type": "code",
   "execution_count": null,
   "id": "d741b00a",
   "metadata": {},
   "outputs": [],
   "source": [
    "df.head()"
   ]
  },
  {
   "cell_type": "markdown",
   "id": "3dceaa48",
   "metadata": {},
   "source": [
    "#### Removing \",\" and 'L' from price column"
   ]
  },
  {
   "cell_type": "code",
   "execution_count": null,
   "id": "3b9afe8d",
   "metadata": {},
   "outputs": [],
   "source": [
    "def price_mod(x):\n",
    "    for i in x:\n",
    "        if \",\" in x:\n",
    "            return x.replace(\",\",\"\")\n",
    "        elif \"L\" in x:\n",
    "            return float(x.replace(\" L\",\"\"))*100000"
   ]
  },
  {
   "cell_type": "code",
   "execution_count": null,
   "id": "cb0715aa",
   "metadata": {},
   "outputs": [],
   "source": [
    "df['Price_in_rupees']=df['price'].apply(price_mod)"
   ]
  },
  {
   "cell_type": "code",
   "execution_count": null,
   "id": "00a3f26f",
   "metadata": {},
   "outputs": [],
   "source": [
    "df.head()"
   ]
  },
  {
   "cell_type": "code",
   "execution_count": null,
   "id": "02747394",
   "metadata": {},
   "outputs": [],
   "source": [
    "df.dtypes"
   ]
  },
  {
   "cell_type": "markdown",
   "id": "20aa6747",
   "metadata": {},
   "source": [
    "#### changing type of Price_in_rupees from object to int64\n"
   ]
  },
  {
   "cell_type": "code",
   "execution_count": null,
   "id": "5c909bed",
   "metadata": {},
   "outputs": [],
   "source": [
    "df['Price_in_rupees']=df['Price_in_rupees'].astype(np.int64)"
   ]
  },
  {
   "cell_type": "code",
   "execution_count": null,
   "id": "3aac5265",
   "metadata": {},
   "outputs": [],
   "source": [
    "df.dtypes"
   ]
  },
  {
   "cell_type": "markdown",
   "id": "f907ef16",
   "metadata": {},
   "source": [
    "#### Seperating digits from BHK"
   ]
  },
  {
   "cell_type": "code",
   "execution_count": null,
   "id": "2afa5177",
   "metadata": {},
   "outputs": [],
   "source": [
    "df['BHK_']=df['BHK'].apply(lambda x:x[0])"
   ]
  },
  {
   "cell_type": "code",
   "execution_count": null,
   "id": "ae5e7df6",
   "metadata": {},
   "outputs": [],
   "source": [
    "df['BHK_'].isnull().sum()"
   ]
  },
  {
   "cell_type": "code",
   "execution_count": null,
   "id": "7bf8d7ef",
   "metadata": {},
   "outputs": [],
   "source": [
    "df['BHK_'].value_counts()"
   ]
  },
  {
   "cell_type": "markdown",
   "id": "17e6482b",
   "metadata": {},
   "source": [
    "#### Seperating House_type from BHK column"
   ]
  },
  {
   "cell_type": "code",
   "execution_count": null,
   "id": "6fdb659c",
   "metadata": {},
   "outputs": [],
   "source": [
    "df[\"House_Type\"]=df['BHK'].apply(lambda x: re.findall(r\"(Apartment|Independent House|Independent Floor|Studio Apartment|Villa)\",x)[0])"
   ]
  },
  {
   "cell_type": "code",
   "execution_count": null,
   "id": "aa5a9925",
   "metadata": {},
   "outputs": [],
   "source": [
    "df[\"House_Type\"].value_counts()"
   ]
  },
  {
   "cell_type": "code",
   "execution_count": null,
   "id": "e73be4d1",
   "metadata": {},
   "outputs": [],
   "source": [
    "df[\"House_Type\"].isnull().sum()"
   ]
  },
  {
   "cell_type": "code",
   "execution_count": null,
   "id": "91fac03d",
   "metadata": {},
   "outputs": [],
   "source": [
    "df.head()"
   ]
  },
  {
   "cell_type": "markdown",
   "id": "5dff0277",
   "metadata": {},
   "source": [
    "### Spliting city from location"
   ]
  },
  {
   "cell_type": "code",
   "execution_count": null,
   "id": "6869d2b5",
   "metadata": {},
   "outputs": [],
   "source": [
    "df['Location']=df['location'].apply(lambda x:x.split(',')[1])"
   ]
  },
  {
   "cell_type": "code",
   "execution_count": null,
   "id": "b9b3366a",
   "metadata": {},
   "outputs": [],
   "source": [
    "df.head()"
   ]
  },
  {
   "cell_type": "code",
   "execution_count": null,
   "id": "7d29c8d0",
   "metadata": {},
   "outputs": [],
   "source": [
    "df['Location']"
   ]
  },
  {
   "cell_type": "markdown",
   "id": "d3e60ac5",
   "metadata": {},
   "source": [
    "#### Seperating sub_location from location column"
   ]
  },
  {
   "cell_type": "code",
   "execution_count": null,
   "id": "baa50536",
   "metadata": {},
   "outputs": [],
   "source": [
    "df['Locality']=df['location'].apply(lambda x:x.split(',')[0])"
   ]
  },
  {
   "cell_type": "code",
   "execution_count": null,
   "id": "ce728737",
   "metadata": {},
   "outputs": [],
   "source": [
    "df.head()"
   ]
  },
  {
   "cell_type": "code",
   "execution_count": null,
   "id": "a91c1f3e",
   "metadata": {},
   "outputs": [],
   "source": [
    "df['Locality'].isnull().sum()"
   ]
  },
  {
   "cell_type": "code",
   "execution_count": null,
   "id": "60018f56",
   "metadata": {},
   "outputs": [],
   "source": [
    "df['Locality'].value_counts()"
   ]
  },
  {
   "cell_type": "markdown",
   "id": "a18ce409",
   "metadata": {},
   "source": [
    "#### Seperating No_0f_Bathrooms from bathrooms column using Regex"
   ]
  },
  {
   "cell_type": "code",
   "execution_count": null,
   "id": "ee23735d",
   "metadata": {},
   "outputs": [],
   "source": [
    "def regx_1(x):\n",
    "    \n",
    "    for i in x:\n",
    "        if re.findall(r'[0-9]',x)!=[]:\n",
    "            return re.findall(r'[0-9]',x)[0]\n",
    "        else:\n",
    "            return float(\"NaN\")\n",
    "            "
   ]
  },
  {
   "cell_type": "code",
   "execution_count": null,
   "id": "fc6c70fa",
   "metadata": {},
   "outputs": [],
   "source": [
    "df['No_of_Bathrooms']=df['bathrooms'].apply(regx_1)"
   ]
  },
  {
   "cell_type": "code",
   "execution_count": null,
   "id": "720d413d",
   "metadata": {},
   "outputs": [],
   "source": [
    "df.head()"
   ]
  },
  {
   "cell_type": "code",
   "execution_count": null,
   "id": "a91f5108",
   "metadata": {},
   "outputs": [],
   "source": [
    "df['No_of_Bathrooms'].isnull().sum()"
   ]
  },
  {
   "cell_type": "code",
   "execution_count": null,
   "id": "3522bdd6",
   "metadata": {
    "scrolled": true
   },
   "outputs": [],
   "source": [
    "df['No_of_Bathrooms'].value_counts()"
   ]
  },
  {
   "cell_type": "markdown",
   "id": "af3c20f0",
   "metadata": {},
   "source": [
    "#### Seperating Facing using Regex"
   ]
  },
  {
   "cell_type": "code",
   "execution_count": null,
   "id": "0bbcc3a9",
   "metadata": {},
   "outputs": [],
   "source": [
    "def regx_2(x):\n",
    "    \n",
    "    for i in x:\n",
    "        if re.findall(r\"[EWNS][\\w]+\\s[a-z]+\",x)!=[]:\n",
    "            return re.findall(r\"[EWNS][\\w]+\\s[a-z]+\",x)[0]\n",
    "        else:\n",
    "            return float(\"NaN\")\n",
    "            "
   ]
  },
  {
   "cell_type": "code",
   "execution_count": null,
   "id": "ceefa0e0",
   "metadata": {},
   "outputs": [],
   "source": [
    "df[\"Facing\"]=df['bathrooms'].apply(regx_2)"
   ]
  },
  {
   "cell_type": "code",
   "execution_count": null,
   "id": "531e39d1",
   "metadata": {},
   "outputs": [],
   "source": [
    "df.head()"
   ]
  },
  {
   "cell_type": "code",
   "execution_count": null,
   "id": "3fa1fcf1",
   "metadata": {},
   "outputs": [],
   "source": [
    "df[\"Facing\"].value_counts()"
   ]
  },
  {
   "cell_type": "code",
   "execution_count": null,
   "id": "34520ecf",
   "metadata": {},
   "outputs": [],
   "source": [
    "df[\"Facing\"].isnull().sum()"
   ]
  },
  {
   "cell_type": "code",
   "execution_count": null,
   "id": "6d28f186",
   "metadata": {},
   "outputs": [],
   "source": [
    "df.tail()"
   ]
  },
  {
   "cell_type": "markdown",
   "id": "0db462f2",
   "metadata": {},
   "source": [
    "#### dropping unwanted columns"
   ]
  },
  {
   "cell_type": "code",
   "execution_count": null,
   "id": "03a0cfc5",
   "metadata": {},
   "outputs": [],
   "source": [
    "df.drop(['BHK','price','bathrooms','Unnamed: 0','location'],axis=1,inplace=True)"
   ]
  },
  {
   "cell_type": "code",
   "execution_count": null,
   "id": "8dba5c46",
   "metadata": {
    "scrolled": true
   },
   "outputs": [],
   "source": [
    "df.head()"
   ]
  },
  {
   "cell_type": "code",
   "execution_count": null,
   "id": "d5395ff5",
   "metadata": {},
   "outputs": [],
   "source": [
    "df.to_csv('House_data_arranged.csv')"
   ]
  },
  {
   "cell_type": "markdown",
   "id": "8b84549d",
   "metadata": {},
   "source": [
    "#### Checking for duplicates"
   ]
  },
  {
   "cell_type": "code",
   "execution_count": null,
   "id": "f7b4c731",
   "metadata": {},
   "outputs": [],
   "source": [
    "df.duplicated().sum()"
   ]
  },
  {
   "cell_type": "markdown",
   "id": "a4a2ba59",
   "metadata": {},
   "source": [
    "#### Reading arranged table"
   ]
  },
  {
   "cell_type": "code",
   "execution_count": null,
   "id": "d356a4eb",
   "metadata": {},
   "outputs": [],
   "source": [
    "df1 = pd.read_csv('House_data_arranged.csv')"
   ]
  },
  {
   "cell_type": "code",
   "execution_count": null,
   "id": "0ceda1cd",
   "metadata": {},
   "outputs": [],
   "source": [
    "df1.head()"
   ]
  },
  {
   "cell_type": "code",
   "execution_count": null,
   "id": "df207b0b",
   "metadata": {},
   "outputs": [],
   "source": [
    "df1.drop(['Unnamed: 0'],axis =1,inplace=True)"
   ]
  },
  {
   "cell_type": "code",
   "execution_count": null,
   "id": "837122cb",
   "metadata": {},
   "outputs": [],
   "source": [
    "df1.head()"
   ]
  },
  {
   "cell_type": "code",
   "execution_count": null,
   "id": "d119627d",
   "metadata": {},
   "outputs": [],
   "source": [
    "df1.info()"
   ]
  },
  {
   "cell_type": "markdown",
   "id": "67d15b2e",
   "metadata": {},
   "source": [
    "## Cleaning Data"
   ]
  },
  {
   "cell_type": "markdown",
   "id": "da7babb8",
   "metadata": {},
   "source": [
    "#### checking for duplicates"
   ]
  },
  {
   "cell_type": "code",
   "execution_count": null,
   "id": "f199b170",
   "metadata": {},
   "outputs": [],
   "source": [
    "df1.duplicated().sum()"
   ]
  },
  {
   "cell_type": "markdown",
   "id": "3bb39938",
   "metadata": {},
   "source": [
    "#### Dropping Duplicates"
   ]
  },
  {
   "cell_type": "code",
   "execution_count": null,
   "id": "24d7eabb",
   "metadata": {},
   "outputs": [],
   "source": [
    "df1.drop_duplicates(inplace=True)"
   ]
  },
  {
   "cell_type": "code",
   "execution_count": null,
   "id": "4cf2a4b4",
   "metadata": {},
   "outputs": [],
   "source": [
    "df1.shape"
   ]
  },
  {
   "cell_type": "markdown",
   "id": "71aa3c9b",
   "metadata": {},
   "source": [
    "#### checking for null values"
   ]
  },
  {
   "cell_type": "code",
   "execution_count": null,
   "id": "74a23322",
   "metadata": {},
   "outputs": [],
   "source": [
    "df1.isna().sum()"
   ]
  },
  {
   "cell_type": "code",
   "execution_count": null,
   "id": "98652114",
   "metadata": {},
   "outputs": [],
   "source": [
    "df1['Facing'].value_counts()"
   ]
  },
  {
   "cell_type": "code",
   "execution_count": null,
   "id": "d100eb8d",
   "metadata": {},
   "outputs": [],
   "source": [
    "df1.isnull().sum()/df1.shape[0]"
   ]
  },
  {
   "cell_type": "code",
   "execution_count": null,
   "id": "94204189",
   "metadata": {},
   "outputs": [],
   "source": [
    "df1.groupby('Locality')['Facing'].value_counts()"
   ]
  },
  {
   "cell_type": "code",
   "execution_count": null,
   "id": "e92a28d9",
   "metadata": {},
   "outputs": [],
   "source": [
    "df1.head()"
   ]
  },
  {
   "cell_type": "markdown",
   "id": "82758111",
   "metadata": {},
   "source": [
    "#### Dropping Null values"
   ]
  },
  {
   "cell_type": "code",
   "execution_count": null,
   "id": "77b34705",
   "metadata": {},
   "outputs": [],
   "source": [
    "df1.dropna(subset=['Facing'],inplace=True)"
   ]
  },
  {
   "cell_type": "code",
   "execution_count": null,
   "id": "ac6dd1df",
   "metadata": {},
   "outputs": [],
   "source": [
    "df1.head()"
   ]
  },
  {
   "cell_type": "code",
   "execution_count": null,
   "id": "2ea44aa5",
   "metadata": {},
   "outputs": [],
   "source": [
    "df1.isnull().sum()/df1.shape[0]"
   ]
  },
  {
   "cell_type": "code",
   "execution_count": null,
   "id": "b643eeb3",
   "metadata": {},
   "outputs": [],
   "source": [
    "df1.reset_index(inplace=True)"
   ]
  },
  {
   "cell_type": "code",
   "execution_count": null,
   "id": "edd18f66",
   "metadata": {},
   "outputs": [],
   "source": [
    "df1.head()"
   ]
  },
  {
   "cell_type": "markdown",
   "id": "fc4499a9",
   "metadata": {},
   "source": [
    "#### Dropping Location and index columns"
   ]
  },
  {
   "cell_type": "code",
   "execution_count": null,
   "id": "ca8f4aa9",
   "metadata": {},
   "outputs": [],
   "source": [
    "df1.drop(['Location','index'],axis=1,inplace=True)"
   ]
  },
  {
   "cell_type": "code",
   "execution_count": null,
   "id": "3792ee0c",
   "metadata": {},
   "outputs": [],
   "source": [
    "df1.head()"
   ]
  },
  {
   "cell_type": "code",
   "execution_count": null,
   "id": "39e76408",
   "metadata": {},
   "outputs": [],
   "source": [
    "df1.shape"
   ]
  },
  {
   "cell_type": "code",
   "execution_count": null,
   "id": "715b6bc5",
   "metadata": {},
   "outputs": [],
   "source": [
    "df1.duplicated().sum()"
   ]
  },
  {
   "cell_type": "code",
   "execution_count": null,
   "id": "2f702329",
   "metadata": {},
   "outputs": [],
   "source": [
    "df1.isnull().sum()"
   ]
  },
  {
   "cell_type": "code",
   "execution_count": null,
   "id": "23ec24ff",
   "metadata": {},
   "outputs": [],
   "source": [
    "df1.head()"
   ]
  },
  {
   "cell_type": "code",
   "execution_count": null,
   "id": "03afb276",
   "metadata": {},
   "outputs": [],
   "source": [
    "df1.info()"
   ]
  },
  {
   "cell_type": "code",
   "execution_count": null,
   "id": "93898a9f",
   "metadata": {},
   "outputs": [],
   "source": [
    "df1[df1['No_of_Bathrooms']==np.NaN]"
   ]
  },
  {
   "cell_type": "code",
   "execution_count": null,
   "id": "c7a1f16e",
   "metadata": {},
   "outputs": [],
   "source": [
    "df1['No_of_Bathrooms']=df1['No_of_Bathrooms'].astype(np.int64)"
   ]
  },
  {
   "cell_type": "code",
   "execution_count": null,
   "id": "dd510c35",
   "metadata": {},
   "outputs": [],
   "source": [
    "df1.info()"
   ]
  },
  {
   "cell_type": "code",
   "execution_count": null,
   "id": "3d36daa5",
   "metadata": {},
   "outputs": [],
   "source": [
    "df1.describe(include='all')"
   ]
  },
  {
   "cell_type": "code",
   "execution_count": null,
   "id": "c5625cb6",
   "metadata": {},
   "outputs": [],
   "source": [
    "df1.head()"
   ]
  },
  {
   "cell_type": "code",
   "execution_count": null,
   "id": "82e215a1",
   "metadata": {},
   "outputs": [],
   "source": [
    "df1 = df1.iloc[:,[5,4,7,0,1,3,6,2]]"
   ]
  },
  {
   "cell_type": "code",
   "execution_count": null,
   "id": "3e75d468",
   "metadata": {},
   "outputs": [],
   "source": [
    "df1.head()"
   ]
  },
  {
   "cell_type": "code",
   "execution_count": null,
   "id": "d0d4a24a",
   "metadata": {},
   "outputs": [],
   "source": [
    "df1.to_csv('House_data_cleaned.csv')"
   ]
  },
  {
   "cell_type": "markdown",
   "id": "fc6c61fa",
   "metadata": {},
   "source": [
    "## Analyzing Data"
   ]
  },
  {
   "cell_type": "code",
   "execution_count": null,
   "id": "29711299",
   "metadata": {},
   "outputs": [],
   "source": []
  }
 ],
 "metadata": {
  "kernelspec": {
   "display_name": "Python 3 (ipykernel)",
   "language": "python",
   "name": "python3"
  },
  "language_info": {
   "codemirror_mode": {
    "name": "ipython",
    "version": 3
   },
   "file_extension": ".py",
   "mimetype": "text/x-python",
   "name": "python",
   "nbconvert_exporter": "python",
   "pygments_lexer": "ipython3",
   "version": "3.9.16"
  }
 },
 "nbformat": 4,
 "nbformat_minor": 5
}
